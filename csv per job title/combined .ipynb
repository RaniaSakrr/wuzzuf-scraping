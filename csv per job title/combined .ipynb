{
 "cells": [
  {
   "cell_type": "code",
   "execution_count": 4,
   "id": "dc2d6216",
   "metadata": {},
   "outputs": [],
   "source": [
    "import pandas as pd\n",
    "import os\n",
    "\n",
    "folder_path = r'C:\\Users\\Options\\Downloads\\wuzzuf'\n",
    "\n",
    "# Use a list comprehension to read and concatenate the files\n",
    "merged_data = pd.concat([pd.read_csv(os.path.join(folder_path, file_name)) for file_name in os.listdir(folder_path) if file_name.endswith('.csv')])\n",
    "\n",
    "# Write the merged data to a new Excel file\n",
    "merged_data.to_csv(r'C:\\Users\\Options\\Downloads\\wuzzuf\\combined.csv', index=False)"
   ]
  },
  {
   "cell_type": "code",
   "execution_count": null,
   "id": "e2dd36ca",
   "metadata": {},
   "outputs": [],
   "source": []
  }
 ],
 "metadata": {
  "kernelspec": {
   "display_name": "Python 3 (ipykernel)",
   "language": "python",
   "name": "python3"
  },
  "language_info": {
   "codemirror_mode": {
    "name": "ipython",
    "version": 3
   },
   "file_extension": ".py",
   "mimetype": "text/x-python",
   "name": "python",
   "nbconvert_exporter": "python",
   "pygments_lexer": "ipython3",
   "version": "3.11.5"
  }
 },
 "nbformat": 4,
 "nbformat_minor": 5
}
