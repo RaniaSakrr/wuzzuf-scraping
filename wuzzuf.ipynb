{
 "cells": [
  {
   "cell_type": "code",
   "execution_count": 1,
   "metadata": {},
   "outputs": [],
   "source": [
    "from selenium import webdriver\n",
    "from selenium.common.exceptions import NoSuchElementException\n",
    "import time\n",
    "import pandas as pd\n",
    "import urllib.parse\n",
    "from selenium.webdriver.common.by import By\n",
    "from bs4 import BeautifulSoup"
   ]
  },
  {
   "cell_type": "code",
   "execution_count": 2,
   "metadata": {},
   "outputs": [],
   "source": [
    "def generate_url(query, page_number):\n",
    "    params = {'a': 'hpd', 'q': query, 'start': page_number}\n",
    "    return \"https://wuzzuf.net/search/jobs/?{}\".format(urllib.parse.urlencode(params))"
   ]
  },
  {
   "cell_type": "code",
   "execution_count": 3,
   "metadata": {},
   "outputs": [],
   "source": [
    "def scraping(job):\n",
    "    skill, requirements, description, title, company, employment, location, level, ExperienceNeeded=[], [], [], [], [], [], [], [], []\n",
    "    driver = webdriver.Chrome()\n",
    "    page = 77\n",
    "    while True:\n",
    "        driver.get(generate_url(job, page))\n",
    "    \n",
    "        time.sleep(2)\n",
    "        # Find all elements with the specified class\n",
    "        link_elements = driver.find_elements(By.CLASS_NAME, 'css-m604qf')\n",
    "        # Initialize an empty list to store the href links\n",
    "        href_links = []\n",
    "        # Iterate through each web element and extract the href attribute\n",
    "        for link_element in link_elements:\n",
    "            x = link_element.find_element(By.TAG_NAME, 'a')\n",
    "            job_link = x.get_attribute('href')\n",
    "            href_links.append(job_link)\n",
    "        \n",
    "        if not href_links:\n",
    "            break\n",
    "    \n",
    "        for link in href_links:\n",
    "            if link != 'None':\n",
    "                driver.get(link)\n",
    "                ttitle = driver.find_element(By.CLASS_NAME,\"css-f9uh36\").text\n",
    "\n",
    "                empl=driver.find_element(By.CLASS_NAME, \"css-ja0r8m\").text\n",
    "                career_level= driver.find_elements(By.CLASS_NAME, \"css-4xky9y\")\n",
    "\n",
    "                #location, company\n",
    "                \n",
    "                if len(driver.find_elements(By.CLASS_NAME, \"css-9geu3q\")) == 2:\n",
    "                    location_company= driver.find_elements(By.CLASS_NAME, \"css-9geu3q\")[1].text\n",
    "                else:\n",
    "                    location_company= driver.find_elements(By.CLASS_NAME, \"css-9geu3q\")[0].text\n",
    "                split_parts = location_company.split('-')\n",
    "                com = split_parts[0].strip()\n",
    "                loc = split_parts[1].strip()\n",
    "\n",
    "                #desc, requirements\n",
    "                \n",
    "                try:\n",
    "                    description_elements = driver.find_elements(By.CSS_SELECTOR, \".css-1uobp1k ul li\")\n",
    "                    desc = [li.text for li in description_elements]\n",
    "                except NoSuchElementException:\n",
    "                    desc = 'Na' #You need to set a \"not found value. It's importa\n",
    "                \n",
    "                try:\n",
    "                    requirements_elements = driver.find_elements(By.CSS_SELECTOR, \".css-1t5f0fr ul li\")\n",
    "                    requirement= [li.text for li in requirements_elements]\n",
    "                except NoSuchElementException:\n",
    "                    requirement = 'Na' \n",
    "                \n",
    "\n",
    "                #skills\n",
    "                e= driver.find_element(By.CLASS_NAME, 'css-s2o0yh')\n",
    "                elements = e.find_elements(By.CLASS_NAME, 'css-158icaa')\n",
    "                skills= [element.text for element in elements]\n",
    "\n",
    "\n",
    "\n",
    "                title.append(ttitle)\n",
    "                company.append(com)\n",
    "                location.append(loc)\n",
    "                level.append(career_level[1].text if len(career_level)>= 1 else \"Na\")\n",
    "                ExperienceNeeded.append(career_level[0].text)\n",
    "                employment.append(empl)\n",
    "                requirements.append(requirement)\n",
    "                description.append(desc)\n",
    "                skill.append(skills)\n",
    "                \n",
    "                time.sleep(2)\n",
    "\n",
    "        page += 1\n",
    "\n",
    "    dic = {\n",
    "        \"Job Title\": title,\n",
    "        \"company\":company,\n",
    "        \"Location\": location,\n",
    "        \"Employment Type\": employment,\n",
    "        \"level\":level,\n",
    "        \"requirement\":requirements,\n",
    "        \"description\":description, \n",
    "        \"Experience Needed\":ExperienceNeeded, \n",
    "        \"skills\":skill\n",
    "        \n",
    "    }\n",
    "    return(dic)\n",
    "    driver.close()\n"
   ]
  },
  {
   "cell_type": "code",
   "execution_count": null,
   "metadata": {},
   "outputs": [],
   "source": [
    "software_engineer = scraping('software engineer')"
   ]
  },
  {
   "cell_type": "code",
   "execution_count": null,
   "metadata": {},
   "outputs": [],
   "source": [
    "df_software_engineer= pd.DataFrame(software_engineer)\n",
    "df_software_engineer.to_csv(\"software engineer2.csv\")"
   ]
  },
  {
   "cell_type": "code",
   "execution_count": null,
   "metadata": {},
   "outputs": [],
   "source": []
  }
 ],
 "metadata": {
  "kernelspec": {
   "display_name": "Python 3 (ipykernel)",
   "language": "python",
   "name": "python3"
  },
  "language_info": {
   "codemirror_mode": {
    "name": "ipython",
    "version": 3
   },
   "file_extension": ".py",
   "mimetype": "text/x-python",
   "name": "python",
   "nbconvert_exporter": "python",
   "pygments_lexer": "ipython3",
   "version": "3.11.5"
  }
 },
 "nbformat": 4,
 "nbformat_minor": 2
}
